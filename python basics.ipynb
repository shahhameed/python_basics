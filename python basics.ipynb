{
 "cells": [
  {
   "cell_type": "code",
   "execution_count": null,
   "metadata": {},
   "outputs": [],
   "source": [
    "print(\"Hello World\")"
   ]
  },
  {
   "cell_type": "code",
   "execution_count": null,
   "metadata": {},
   "outputs": [],
   "source": [
    "x=1"
   ]
  },
  {
   "cell_type": "code",
   "execution_count": null,
   "metadata": {},
   "outputs": [],
   "source": [
    "print(x)"
   ]
  },
  {
   "cell_type": "code",
   "execution_count": null,
   "metadata": {},
   "outputs": [],
   "source": [
    "type(x)"
   ]
  },
  {
   "cell_type": "code",
   "execution_count": null,
   "metadata": {},
   "outputs": [],
   "source": [
    "y = 1.5"
   ]
  },
  {
   "cell_type": "code",
   "execution_count": null,
   "metadata": {},
   "outputs": [],
   "source": [
    "type(y)"
   ]
  },
  {
   "cell_type": "code",
   "execution_count": null,
   "metadata": {},
   "outputs": [],
   "source": [
    "name=shah\n",
    "type(name)"
   ]
  },
  {
   "cell_type": "code",
   "execution_count": null,
   "metadata": {},
   "outputs": [],
   "source": [
    "name = \"shah\" # Giving a personal name to the variable\n",
    "type(name)"
   ]
  },
  {
   "cell_type": "code",
   "execution_count": null,
   "metadata": {},
   "outputs": [],
   "source": [
    "x = 10 \n",
    "y = 50\n",
    "z = (x+y)\n",
    "print(z)"
   ]
  },
  {
   "cell_type": "code",
   "execution_count": null,
   "metadata": {},
   "outputs": [],
   "source": [
    "print(3+4)"
   ]
  },
  {
   "cell_type": "code",
   "execution_count": null,
   "metadata": {},
   "outputs": [],
   "source": [
    "print 3-7/2"
   ]
  },
  {
   "cell_type": "code",
   "execution_count": null,
   "metadata": {},
   "outputs": [],
   "source": [
    "print((3-1)/2)"
   ]
  },
  {
   "cell_type": "code",
   "execution_count": null,
   "metadata": {},
   "outputs": [],
   "source": [
    "b1 = True\n",
    "type(b1)"
   ]
  },
  {
   "cell_type": "code",
   "execution_count": null,
   "metadata": {},
   "outputs": [],
   "source": [
    "not True"
   ]
  },
  {
   "cell_type": "code",
   "execution_count": null,
   "metadata": {},
   "outputs": [],
   "source": [
    "i = 19\n",
    "if i < 10:\n",
    "    print('Less than 19')\n",
    "elif i < 15:\n",
    "    print('Less than 15')\n",
    "else:\n",
    "    print('19 or more')"
   ]
  },
  {
   "cell_type": "code",
   "execution_count": null,
   "metadata": {},
   "outputs": [],
   "source": [
    "list = [1,2,3,4]\n",
    "print(list)"
   ]
  },
  {
   "cell_type": "code",
   "execution_count": null,
   "metadata": {},
   "outputs": [],
   "source": [
    "l = []\n",
    "l.append('e')\n",
    "l.append('n')\n",
    "l.insert(0,'p')\n",
    "\n",
    "l"
   ]
  },
  {
   "cell_type": "code",
   "execution_count": null,
   "metadata": {},
   "outputs": [],
   "source": [
    "# Program to add natural\n",
    "# numbers upto \n",
    "# sum = 1+2+3+...+n\n",
    "\n",
    "# To take input from the user,\n",
    "# n = int(input(\"Enter n: \"))\n",
    "\n",
    "n = 10\n",
    "\n",
    "# initialize sum and counter\n",
    "sum = 0\n",
    "i = 1\n",
    "\n",
    "while i <= n:\n",
    "    sum = sum + i\n",
    "    i = i+1    # update counter\n",
    "\n",
    "# print the sum\n",
    "print(\"The sum is\", sum)"
   ]
  },
  {
   "cell_type": "code",
   "execution_count": null,
   "metadata": {},
   "outputs": [],
   "source": [
    "print(range(10))"
   ]
  },
  {
   "cell_type": "code",
   "execution_count": null,
   "metadata": {},
   "outputs": [],
   "source": [
    "for val in \"waris\":\n",
    "    if val == \"s\":\n",
    "        break\n",
    "    print(val)"
   ]
  },
  {
   "cell_type": "code",
   "execution_count": null,
   "metadata": {},
   "outputs": [],
   "source": [
    "name = input(\"what is your name ?\")\n",
    "type(name)"
   ]
  },
  {
   "cell_type": "code",
   "execution_count": null,
   "metadata": {},
   "outputs": [],
   "source": [
    "name = input()\n",
    "type(name)"
   ]
  },
  {
   "cell_type": "code",
   "execution_count": null,
   "metadata": {},
   "outputs": [],
   "source": [
    "genr = ['Apple', 'Orange', 'Banana','Grape']\n",
    "\n",
    "# iterate over the list using index\n",
    "#for i in range (len('genr')):\n",
    "    #print(\"I Love\", genr[i])\n",
    "for val in range (len('genr')):\n",
    "    print(\"I Love\",genr[val])"
   ]
  },
  {
   "cell_type": "code",
   "execution_count": null,
   "metadata": {},
   "outputs": [],
   "source": [
    "# Let's have one more example\n",
    "name = input(\"What is your name? \")\n",
    "print (\" It was nice talking you \" + name + \"!\")\n",
    "age = input(\"Enter your age? \")\n",
    "print(\"Hey, you are already \" + age + \" years old, \" + name + \"!\")"
   ]
  },
  {
   "cell_type": "code",
   "execution_count": null,
   "metadata": {},
   "outputs": [],
   "source": [
    "# sample list examples\n",
    "\n",
    "# Print lists in Python (4 Different Ways)\n",
    "\n",
    "# 1\n",
    "\n",
    "# Python program to print list \n",
    "# using for loop \n",
    "a = [1, 2, 3, 4, 5] \n",
    "  \n",
    "# printing the list using loop \n",
    "for x in range(len(a)): \n",
    "    print(a[x])"
   ]
  },
  {
   "cell_type": "code",
   "execution_count": null,
   "metadata": {},
   "outputs": [],
   "source": [
    "# 2\n",
    "# Python program to print list \n",
    "# without using loop \n",
    "  \n",
    "a = [1, 2, 3, 4, 5] \n",
    "  \n",
    "# printing the list using * operator separated  \n",
    "# by space  \n",
    "print(*a) \n",
    "  \n",
    "# printing the list using * and sep operator \n",
    "print(\"printing lists separated by commas\") \n",
    "  \n",
    "print(*a, sep = \", \")  \n",
    "  \n",
    "# print in new line \n",
    "print(\"printing lists in new line\") \n",
    "  \n",
    "print(*a, sep = \"\\n\") "
   ]
  },
  {
   "cell_type": "code",
   "execution_count": null,
   "metadata": {},
   "outputs": [],
   "source": [
    "# 3\n",
    "# Python program to print list \n",
    "# by Converting a list to a  \n",
    "# string for display \n",
    "a = [\"Geeks\", \"for\", \"Geeks\"] \n",
    "  \n",
    "# print the list using join function() \n",
    "print(' '.join(a)) \n",
    "  \n",
    "# print the list by converting a list of  \n",
    "# integers to string  \n",
    "a = [1, 2, 3, 4, 5] \n",
    "\n",
    "  \n",
    "print(str(a)[1:-1])"
   ]
  },
  {
   "cell_type": "code",
   "execution_count": null,
   "metadata": {},
   "outputs": [],
   "source": [
    "# 4\n",
    "# Python program to print list \n",
    "# print the list by converting a list of  \n",
    "# integers to string using map \n",
    "  \n",
    "a = [1, 2, 3, 4, 5] \n",
    "print(' '.join(map(str, a)))  \n",
    "print(\"in new line\")\n",
    "print('\\n'.join(map(str, a))) "
   ]
  },
  {
   "cell_type": "code",
   "execution_count": null,
   "metadata": {},
   "outputs": [],
   "source": [
    "name = input(\"sale is in decline so any alternative? : \")\n",
    "print(\"will figure out a way to tackle this issue : \" + name + \"!\")"
   ]
  },
  {
   "cell_type": "code",
   "execution_count": 2,
   "metadata": {},
   "outputs": [
    {
     "name": "stdout",
     "output_type": "stream",
     "text": [
      "Started\n",
      "Hi your name:waris\n"
     ]
    }
   ],
   "source": [
    "def hello():\n",
    "    result = input(\"Hi your name:\")\n",
    "    return result\n",
    "\n",
    "\n",
    "def Main():\n",
    "    print(\"Started\")\n",
    "    output = hello()\n",
    "    #print(output)\n",
    "    \n",
    "    \n",
    "# now we are required to tell python for Main functions existence\n",
    "\n",
    "if __name__==\"__main__\":\n",
    "    Main()\n",
    "    "
   ]
  },
  {
   "cell_type": "code",
   "execution_count": 1,
   "metadata": {},
   "outputs": [
    {
     "name": "stdout",
     "output_type": "stream",
     "text": [
      "Started\n",
      "Enter integer: 12\n"
     ]
    }
   ],
   "source": [
    "def getInteger(): \n",
    "    result = int(input(\"Enter integer: \")) \n",
    "    return result \n",
    "  \n",
    "def Main(): \n",
    "    print(\"Started\") \n",
    "# calling the getInteger function and  \n",
    "# storing its returned value in the output variable \n",
    "    output = getInteger()      \n",
    "    # print(output) \n",
    "  \n",
    "# now we are required to tell Python  \n",
    "# for 'Main' function existence \n",
    "if __name__==\"__main__\": \n",
    "    Main() "
   ]
  },
  {
   "cell_type": "code",
   "execution_count": 1,
   "metadata": {},
   "outputs": [
    {
     "name": "stdout",
     "output_type": "stream",
     "text": [
      "enter a number: 5\n",
      "5.0\n"
     ]
    }
   ],
   "source": [
    "# Module examples\n",
    "# math module\n",
    "\n",
    "import math\n",
    "\n",
    "def Main():\n",
    "    num = float(input(\"enter a number: \"))\n",
    "    # fabs is used to get the absolute value of a decimal\n",
    "    num = math.fabs(num)\n",
    "    print(num)\n",
    "if __name__==\"__main__\":\n",
    "    Main()"
   ]
  },
  {
   "cell_type": "code",
   "execution_count": null,
   "metadata": {},
   "outputs": [],
   "source": [
    "A1 = True\n",
    "A2 = False\n",
    "type(A1)"
   ]
  },
  {
   "cell_type": "code",
   "execution_count": 4,
   "metadata": {},
   "outputs": [
    {
     "data": {
      "text/plain": [
       "complex"
      ]
     },
     "execution_count": 4,
     "metadata": {},
     "output_type": "execute_result"
    }
   ],
   "source": [
    "x=1.0+2.0j\n",
    "type(x)"
   ]
  },
  {
   "cell_type": "code",
   "execution_count": 2,
   "metadata": {},
   "outputs": [
    {
     "name": "stdout",
     "output_type": "stream",
     "text": [
      "sum is  16\n",
      "i is 2\n",
      "sum is  18\n",
      "i is 3\n",
      "sum is  21\n",
      "i is 4\n",
      "sum is  25\n",
      "i is 5\n",
      "sum is  30\n",
      "i is 6\n",
      "sum is  36\n",
      "i is 7\n",
      "sum is  43\n",
      "i is 8\n",
      "sum is  51\n",
      "i is 9\n",
      "sum is  60\n",
      "i is 10\n",
      "sum is  70\n",
      "i is 11\n"
     ]
    }
   ],
   "source": [
    "sum = 15\n",
    "i = 1\n",
    "n = 10\n",
    "while i <=n:\n",
    "    sum=sum+i\n",
    "    i=i+1\n",
    "    print('sum is ',sum)\n",
    "    print('i is',i)"
   ]
  },
  {
   "cell_type": "code",
   "execution_count": 3,
   "metadata": {},
   "outputs": [
    {
     "name": "stdout",
     "output_type": "stream",
     "text": [
      "[0, 1, 2, 3, 4, 5, 6, 7, 8, 9, 10, 11, 12, 13, 14, 15]\n"
     ]
    }
   ],
   "source": [
    "print(list(range(16)))\n",
    "# print(list(range(20)))\n",
    "# print(list(range(60)))"
   ]
  },
  {
   "cell_type": "code",
   "execution_count": null,
   "metadata": {},
   "outputs": [],
   "source": [
    "'''Write a program which will find all such numbers which are divisible by 7 but are not a multiple of 5, \n",
    "between 2000 and 3200 (both included). The numbers obtained should be printed in a comma-separated \n",
    "sequence on a single line'''"
   ]
  },
  {
   "cell_type": "code",
   "execution_count": 5,
   "metadata": {},
   "outputs": [
    {
     "name": "stdout",
     "output_type": "stream",
     "text": [
      "2002,2009,2016,2023,2037,2044,2051,2058,2072,2079,2086,2093,2107,2114,2121,2128,2142,2149,2156,2163,2177,2184,2191,2198,2212,2219,2226,2233,2247,2254,2261,2268,2282,2289,2296,2303,2317,2324,2331,2338,2352,2359,2366,2373,2387,2394,2401,2408,2422,2429,2436,2443,2457,2464,2471,2478,2492,2499,2506,2513,2527,2534,2541,2548,2562,2569,2576,2583,2597,2604,2611,2618,2632,2639,2646,2653,2667,2674,2681,2688,2702,2709,2716,2723,2737,2744,2751,2758,2772,2779,2786,2793,2807,2814,2821,2828,2842,2849,2856,2863,2877,2884,2891,2898,2912,2919,2926,2933,2947,2954,2961,2968,2982,2989,2996,3003,3017,3024,3031,3038,3052,3059,3066,3073,3087,3094,3101,3108,3122,3129,3136,3143,3157,3164,3171,3178,3192,3199\n"
     ]
    }
   ],
   "source": [
    "a=[]\n",
    "for i in range(2000, 3200):\n",
    "    if (i%7==0) and (i%5!=0):\n",
    "        a.append(str(i))  # -> # a.append *note!*\n",
    "# print (','.join(a))\n",
    "print(*a , sep = ',')\n",
    "# print(*a , sep = \"\\n\")"
   ]
  },
  {
   "cell_type": "code",
   "execution_count": null,
   "metadata": {},
   "outputs": [],
   "source": [
    "#Write a Python program to find the volume of a sphere with diameter 12 cm.\n",
    "''' Formula: V=4/3 * π * r 3'''\n",
    "\"A=4π2\"\n",
    "\n",
    "pi = 3.1415926535897931\n",
    "r = 6.0\n",
    "V = 4.0/3.0*pi* r**3\n",
    "A = 4*pi* r**2\n",
    "       \n",
    "print(\"Volume of sphere with diameter 12 cm is: \",V)\n",
    "       \n",
    "print(\"Area of sphere with diameter 12 cm is: \",A)"
   ]
  },
  {
   "cell_type": "code",
   "execution_count": null,
   "metadata": {},
   "outputs": [],
   "source": [
    "# python program to do arithmetic operations"
   ]
  },
  {
   "cell_type": "code",
   "execution_count": 6,
   "metadata": {},
   "outputs": [
    {
     "name": "stdout",
     "output_type": "stream",
     "text": [
      "Enter first number: 10\n",
      "Enter second number: 20\n",
      " The sum of 10 and 20 is 30.0\n"
     ]
    }
   ],
   "source": [
    "# Storing the input numbers:\n",
    "num1 = input('Enter first number: ')\n",
    "num2 = input('Enter second number: ')\n",
    "# add two numbers\n",
    "sum = float(num1) + float(num2)\n",
    "# subtract two numbers\n",
    "# #min = float(num1) - float(num2)\n",
    "# multiply two numbers\n",
    "# mul = float(num1) * float(num2)\n",
    "# divide two numbers\n",
    "# div = float(num1) / float(num2)\n",
    "\n",
    "# Display the sum\n",
    "# print('The sum is :' ,sum)\n",
    "\n",
    "print(' The sum of {0} and {1} is {2}'.format(num1,num2, sum))"
   ]
  },
  {
   "cell_type": "code",
   "execution_count": 7,
   "metadata": {},
   "outputs": [
    {
     "name": "stdout",
     "output_type": "stream",
     "text": [
      "Input comma seperated numbers : 1,2,3,4,5,6,7\n",
      "values :  ['1', '2', '3', '4', '5', '6', '7']\n",
      "tuple(values) :  ('1', '2', '3', '4', '5', '6', '7')\n"
     ]
    }
   ],
   "source": [
    "# Write a program which accepts a sequence of comma-seperated numbers from console and generate a list.\n",
    "\n",
    "values = input(\"Input comma seperated numbers : \").split(',')\n",
    "tuple = tuple(values)\n",
    "print (\"values : \" ,values)\n",
    "print (\"tuple(values) : \",tuple)"
   ]
  },
  {
   "cell_type": "code",
   "execution_count": 8,
   "metadata": {},
   "outputs": [
    {
     "name": "stdout",
     "output_type": "stream",
     "text": [
      "\n",
      "* \n",
      "* * \n",
      "* * * \n",
      "* * * * \n",
      "* * * * * \n",
      "* * * * \n",
      "* * * \n",
      "* * \n",
      "* \n"
     ]
    }
   ],
   "source": [
    "n=5;\n",
    "for i in range(n):\n",
    "    for j in range(i):\n",
    "        print ('* ', end=\"\")\n",
    "    print('')\n",
    "\n",
    "for i in range(n,0,-1):\n",
    "    for j in range(i):\n",
    "        print('* ', end=\"\")\n",
    "    print('')\n"
   ]
  },
  {
   "cell_type": "code",
   "execution_count": null,
   "metadata": {},
   "outputs": [],
   "source": [
    "print(\"Third Number Pattern\")\n",
    "lastNumber = 6\n",
    "for row in range(1, lastNumber):\n",
    "    for column in range(row, 0, -1):\n",
    "        print(column, end=' ')\n",
    "    print(\"\")"
   ]
  },
  {
   "cell_type": "code",
   "execution_count": null,
   "metadata": {},
   "outputs": [],
   "source": [
    "print(\"Third Number Pattern\")\n",
    "lastNumber = 6\n",
    "for row in range(2, lastNumber):\n",
    "    for column in range(row,1,-1):\n",
    "        print(column, end=' ')\n",
    "    print(\"\")"
   ]
  },
  {
   "cell_type": "code",
   "execution_count": null,
   "metadata": {},
   "outputs": [],
   "source": [
    "print(\"Fourth Number Pattern\")\n",
    "lastNumber = 9\n",
    "for i in range(0, lastNumber):\n",
    "    for j in range(i, -1, -1):\n",
    "        print(format(2**j, \"4d\"), end=' ')\n",
    "    print(\"\")"
   ]
  },
  {
   "cell_type": "code",
   "execution_count": null,
   "metadata": {},
   "outputs": [],
   "source": [
    "print(\"Fourth Number Pattern\")\n",
    "lastNumber = 9\n",
    "for i in range(9, -1, -1):\n",
    "    for j in range(0 , i+1):\n",
    "        print(format(2**i, \"4d\"), end=' ')\n",
    "    print(\"\\r\")"
   ]
  },
  {
   "cell_type": "code",
   "execution_count": null,
   "metadata": {},
   "outputs": [],
   "source": [
    "print(\"Fourth Number Pattern\")\n",
    "lastNumber = 9\n",
    "for i in range(9, 0, -1):\n",
    "    for j in range(0 , i+1):\n",
    "        print(format(2**i, \"4d\"), end=' ')\n",
    "    print(\"\")"
   ]
  },
  {
   "cell_type": "code",
   "execution_count": null,
   "metadata": {},
   "outputs": [],
   "source": [
    "# Addition of two matrix in python\n",
    "\n",
    "# Note\n",
    "# we can treat matrix as a list of list and this sample represents\n",
    "# [[],[]]\n",
    "\n",
    "matrixOne = [[6,9,11],\n",
    "    [2 ,3,8]]\n",
    "matrixTwo = [[15,18,11],\n",
    "    [26,16,19]]\n",
    "result = [[0,0,0],\n",
    "         [0,0,0]]\n",
    "# First iterate rows\n",
    "for i in range(len(matrixOne)):\n",
    "   # Second iterate columns\n",
    "   for j in range(len(matrixOne[0])):\n",
    "       result[i][j] = matrixOne[i][j] + matrixTwo[i][j]\n",
    "print(\"Addition of two Matrix In Python\")\n",
    "for res in result:\n",
    "   print(res)"
   ]
  },
  {
   "cell_type": "code",
   "execution_count": null,
   "metadata": {},
   "outputs": [],
   "source": [
    "print(\"Hi! this is the python game i am interested in\\n\\t Can this be the day of joy so that i can get\\n something new to learn everyday in python.\")"
   ]
  },
  {
   "cell_type": "code",
   "execution_count": 9,
   "metadata": {},
   "outputs": [
    {
     "name": "stdout",
     "output_type": "stream",
     "text": [
      "[1 2 3]\n",
      "<class 'numpy.ndarray'>\n"
     ]
    }
   ],
   "source": [
    "# Trying numpy package \n",
    "import numpy as np\n",
    "a = np.array([1,2,3])\n",
    "print(a)\n",
    "print(type(a)) # printing the type of the array defined."
   ]
  },
  {
   "cell_type": "code",
   "execution_count": 10,
   "metadata": {},
   "outputs": [
    {
     "name": "stdout",
     "output_type": "stream",
     "text": [
      "A\n",
      " [[0 1]\n",
      " [2 3]] \n",
      "\n",
      "A\n",
      " [4 5 6 7 8 9] \n",
      "\n",
      "A\n",
      " [ 4  7 10 13 16 19] \n",
      "\n"
     ]
    }
   ],
   "source": [
    "# syntax: for numpy \n",
    "\n",
    "# dot -> numpy.dot(a, b, out=None)\n",
    "\n",
    "# arange(start,stop,step,dtype)\n",
    "\n",
    "import numpy as np\n",
    "\n",
    "print(\"A\\n\", np.arange(4).reshape(2, 2), \"\\n\") \n",
    "  \n",
    "print(\"A\\n\", np.arange(4, 10), \"\\n\") \n",
    "  \n",
    "print(\"A\\n\", np.arange(4, 20, 3), \"\\n\") "
   ]
  },
  {
   "cell_type": "code",
   "execution_count": null,
   "metadata": {},
   "outputs": [],
   "source": [
    "# quick sort in python sample\n",
    "\n",
    "def quicksort(arr):\n",
    "    if len(arr) <= 1:\n",
    "        return arr\n",
    "    pivot = arr[len(arr) // 2]\n",
    "    left = [x for x in arr if x < pivot]\n",
    "    middle = [x for x in arr if x == pivot]\n",
    "    right = [x for x in arr if x > pivot]\n",
    "    return quicksort(left) + middle + quicksort(right)\n",
    "print(quicksort([3,6,8,10,1,2,1]))"
   ]
  },
  {
   "cell_type": "code",
   "execution_count": null,
   "metadata": {},
   "outputs": [],
   "source": [
    "# reversing a word\n",
    "\n",
    "str(input(\"Enter a Reverse word = \"))[-1::-1]"
   ]
  },
  {
   "cell_type": "code",
   "execution_count": null,
   "metadata": {},
   "outputs": [],
   "source": [
    "# word occurences \n",
    "\n",
    "s = \"I work in bloomberg founded by bloomberg work work\"\n",
    "\n",
    "tokens = s.split(\" \")\n",
    "d = {}\n",
    "for token in tokens:\n",
    "    if token in d:\n",
    "        d[token] += 1\n",
    "    else:\n",
    "        d[token] = 1\n",
    "\n",
    "print(d)"
   ]
  },
  {
   "cell_type": "code",
   "execution_count": null,
   "metadata": {},
   "outputs": [],
   "source": [
    "s1 = \"I love eating\"\n",
    "s2 = \"veggies\"\n",
    "s3 = \"fruits\"\n",
    "s1+\" \" +s2+\" and \"+s3\n",
    "\n",
    "\n",
    "# (b) Create fourth variable to store number of fruits you eat everyday. Say for example you eat 2 fruits everyday, in that case print “I love eating 2 fruits everyday”\n",
    "\n",
    "num_fruits=2\n",
    "\n",
    "s1+\" \"+str(num_fruits)+\" \"+s3+\" everyday\"\n"
   ]
  },
  {
   "cell_type": "code",
   "execution_count": null,
   "metadata": {},
   "outputs": [],
   "source": [
    "def mul(a,b):\n",
    "    return a*b\n",
    "n1 = input(\"enter the first number: \")\n",
    "n1 = int(n1)\n",
    "n2 = input(\"enter the second number: \")\n",
    "n2 = int(n2)\n",
    "print('mul is: ',mul(n1,n2))"
   ]
  },
  {
   "cell_type": "code",
   "execution_count": null,
   "metadata": {},
   "outputs": [],
   "source": [
    "# task to embed a video from youtube\n",
    "%%HTML\n",
    "<iframe width=\"720\" height=\"315\" src=\"https://www.youtube.com/embed/IVrGz8w0H8c\" frameborder=\"0\" allowfullscreen></iframe>"
   ]
  },
  {
   "cell_type": "code",
   "execution_count": null,
   "metadata": {},
   "outputs": [],
   "source": [
    "# sample of regular python use and numpy use \n",
    "\n",
    "import numpy as np"
   ]
  },
  {
   "cell_type": "code",
   "execution_count": null,
   "metadata": {},
   "outputs": [],
   "source": [
    "%%capture timeit_results\n",
    "# Regular Python\n",
    "%timeit python_list_1 = range(1,1000)\n",
    "python_list_1 = range(1,1000)\n",
    "python_list_2 = range(1,1000)\n",
    "\n",
    "#Numpy\n",
    "%timeit numpy_list_1 = np.arange(1,1000)\n",
    "numpy_list_1 = np.arange(1,1000)\n",
    "numpy_list_2 = np.arange(1,1000)"
   ]
  },
  {
   "cell_type": "code",
   "execution_count": null,
   "metadata": {},
   "outputs": [],
   "source": [
    "print(timeit_results)"
   ]
  },
  {
   "cell_type": "code",
   "execution_count": null,
   "metadata": {},
   "outputs": [],
   "source": [
    "import numpy as np\n",
    "import sys\n",
    "import time\n",
    "l=range(1000)\n",
    "l\n",
    "len(l)\n",
    "print(sys.getsizeof(5)*len(l))\n",
    "array=np.arange(1000)\n",
    "print(array.size*array.itemsize)\n",
    "print(sys.getsizeof(5))"
   ]
  },
  {
   "cell_type": "code",
   "execution_count": null,
   "metadata": {},
   "outputs": [],
   "source": [
    "import numpy as np\n",
    "a=np.array([[1,2],[3,4]])\n",
    "print(a)\n",
    "print(a.ndim)\n",
    "print(a.dtype)"
   ]
  },
  {
   "cell_type": "code",
   "execution_count": null,
   "metadata": {},
   "outputs": [],
   "source": [
    "import numpy as np\n",
    "np.zeros([3,4])\n",
    "np.ones([1,3])"
   ]
  },
  {
   "cell_type": "code",
   "execution_count": null,
   "metadata": {},
   "outputs": [],
   "source": [
    "import numpy as np\n",
    "np.linspace(1,5,10) # linearly spaced"
   ]
  },
  {
   "cell_type": "code",
   "execution_count": null,
   "metadata": {},
   "outputs": [],
   "source": [
    "import numpy as np\n",
    "np.logspace(2.0, 3.0, num=4)"
   ]
  },
  {
   "cell_type": "code",
   "execution_count": null,
   "metadata": {},
   "outputs": [],
   "source": [
    "import numpy as np\n",
    "x = np.arange(9).reshape((3,3)) \n",
    "\n",
    "# reshape is used for assigning \n",
    "# the no. of rows and columns for a matrix\n",
    "\n",
    "print(x)\n",
    "\n",
    "# printing the min, max, and sum of the assigned matrix\n",
    "print(x.min())\n",
    "print(x.max())\n",
    "print(x.sum())\n",
    "np.sqrt(x)"
   ]
  },
  {
   "cell_type": "code",
   "execution_count": null,
   "metadata": {},
   "outputs": [],
   "source": [
    "import numpy as np\n",
    "a = np.array([[1,2,3],[4,5,6],[7,8,9]])\n",
    "for row in a:\n",
    "    print(row)\n",
    "for cell in a.flat:\n",
    "    print(cell)"
   ]
  },
  {
   "cell_type": "code",
   "execution_count": null,
   "metadata": {},
   "outputs": [],
   "source": [
    "a = np.arange(6).reshape(3,2)\n",
    "b = np.arange(6,12).reshape(3,2)\n",
    "np.vstack((a,b)) # print stack vertically\n",
    "np.hstack((a,b)) # print stack horizontally"
   ]
  },
  {
   "cell_type": "code",
   "execution_count": null,
   "metadata": {},
   "outputs": [],
   "source": [
    "import numpy as np\n",
    "np.split(a,3)\n"
   ]
  },
  {
   "cell_type": "code",
   "execution_count": null,
   "metadata": {},
   "outputs": [],
   "source": [
    "a = np.arange(6).reshape(3,2)\n",
    "print(a)\n",
    "for x in np.nditer(a):\n",
    "    print (x),\n",
    "b = a>4 # -> To check which element is highest in the matrix \"a\"\n",
    "b\n",
    "a[b] # -> To return which element is the highest in the array of a matrix"
   ]
  },
  {
   "cell_type": "code",
   "execution_count": null,
   "metadata": {},
   "outputs": [],
   "source": [
    "# Numpy array manipulation\n",
    "# Changing shape -> contains reshape, flat, flatten, ravel\n",
    "# Transpose operations -> contains transpose, ndarray.T, rollaxis, swapaxes\n",
    "# Changing Dimensions -> contains broadcast, broadcast_to, expand_dims, squeeze\n",
    "# Joining Arrays -> contains concatenate, stack, hstack, vstack\n",
    "# Splitting Arrays -> contains split, hsplit, vsplit\n",
    "# Adding/Removing Elements -> resize, append, insert, delete, unique\n"
   ]
  },
  {
   "cell_type": "code",
   "execution_count": null,
   "metadata": {},
   "outputs": [],
   "source": [
    "list=[46,32,11,21]\n",
    "list\n",
    "\n",
    "# importing functools for reduce()\n",
    "import functools\n",
    "\n",
    "print(\"The sum of the list elements is : \",end=\"\")\n",
    "print(functools.reduce(lambda a,b : a+b,list))\n",
    "print(functools.reduce(lambda a,b : a>b,list))\n",
    "print(functools.reduce(lambda a,b : a<b,list))\n",
    "print(functools.reduce(lambda a,b : a*b,list))\n",
    "print(functools.reduce(lambda a,b : a if a > b else b, list))"
   ]
  },
  {
   "cell_type": "code",
   "execution_count": null,
   "metadata": {},
   "outputs": [],
   "source": [
    "# '''Write a Python Program to implement your own myreduce() function which works exactly like\n",
    "# Python's built-in function reduce()'''\n",
    "\n",
    "def myreduce(n):\n",
    "    a = n[0]\n",
    "    arr_len = len(n)\n",
    "    arr_bound_value = arr_len - 1\n",
    "    \n",
    "    for i in range(arr_len):\n",
    "        yield a\n",
    "        if i < arr_bound_value:\n",
    "            a = a + n[i+1]\n",
    "            print(i)"
   ]
  },
  {
   "cell_type": "code",
   "execution_count": null,
   "metadata": {},
   "outputs": [],
   "source": [
    "for i in myreduce(list):\n",
    "    print(i)"
   ]
  },
  {
   "cell_type": "code",
   "execution_count": null,
   "metadata": {},
   "outputs": [],
   "source": [
    "'''List Comprehension Python'''\n",
    "'''Question 1'''\n",
    "\n",
    "\n",
    "name = 'Macbook'\n",
    "\n",
    "name1 = \"\\n3\\n4\\n5\" \n",
    "\n",
    "#str_list = [row[0] for row in name]\n",
    "str_list1 = [column for column in name1]\n",
    "#str_list\n",
    "str_list1"
   ]
  },
  {
   "cell_type": "code",
   "execution_count": null,
   "metadata": {},
   "outputs": [],
   "source": [
    "lst_set = [tuple([j,i]) for i in range(1,4) for j in range(1,4)]\n",
    "lst_set"
   ]
  },
  {
   "cell_type": "code",
   "execution_count": null,
   "metadata": {},
   "outputs": [],
   "source": [
    "def find_longest_word(words_list):  \n",
    "    word_len = []  \n",
    "    for n in words_list:  \n",
    "        word_len.append((len(n), n))  \n",
    "    word_len.sort()  \n",
    "    return word_len[-1][1]  \n",
    "  \n",
    "print(find_longest_word([\"PHP\", \"Exercises\", \"Backend\"]))"
   ]
  },
  {
   "cell_type": "code",
   "execution_count": null,
   "metadata": {},
   "outputs": [],
   "source": [
    "class Triangle:\n",
    "    \n",
    "    def __init__(self,a,b,c):\n",
    "        self.a = float(a)\n",
    "        self.b = float(b)\n",
    "        self.c = float(c)\n",
    "        \n",
    "    def area(self):\n",
    "        s=(self.a + self.b + self.c)/2\n",
    "        return((s*(s-self.a)*(s-self.b)*(s-self.c))**0.5)\n",
    "\n",
    "a=input(\"Enter the value of a = \")\n",
    "b=input(\"Enter the value of b = \")\n",
    "c=input(\"Enter the value of c = \")\n",
    "t=Triangle(a, b, c)\n",
    "print(\"area: {}\".format(t.area()))"
   ]
  },
  {
   "cell_type": "code",
   "execution_count": null,
   "metadata": {},
   "outputs": [],
   "source": [
    "# Write a Python program using function concept that maps list of words into a list of integers\n",
    "# representing the lengths of the corresponding words.\n",
    "# Hint: If a list [ ab,cde,erty] is passed on to the python function output should come as [2,3,4]\n",
    "# Here 2,3 and 4 are the lengths of the words in the list.\n",
    "\n",
    "\n",
    "def map_to_lengths_for(words):\n",
    "    lengths = []\n",
    "    for word in words:\n",
    "        lengths.append(len(word))\n",
    "    return lengths\n",
    "\n",
    "if __name__ == \"__main__\":\n",
    "    words = ['ab', 'cde', 'erty']\n",
    "    print (map_to_lengths_for(words))\n",
    "    \n",
    "    "
   ]
  },
  {
   "cell_type": "code",
   "execution_count": null,
   "metadata": {},
   "outputs": [],
   "source": [
    "# import pandas as pd\n",
    "\n",
    "# import numpy as np\n",
    "\n",
    "# from sqlalchemy import create_engine\n",
    "\n",
    "# from urllib.parse import quote_plus\n",
    "\n",
    "# params = quote_plus(r'Driver={SQL Server};Server=server_name;Database=DB_name;Trusted_Connection=yes;')\n",
    "\n",
    "# engine = create_engine(\"mssql+pyodbc:///?odbc_connect=%s\" % params)\n",
    "\n",
    "# sql_string = '''SELECT id,author From researches WHERE id < 20 '''\n",
    "\n",
    "# final_data_fetch = pd.read_sql_query(sql_string, engine)\n",
    "\n",
    "# final_data_fetch.to_csv('file_name.csv')"
   ]
  },
  {
   "cell_type": "code",
   "execution_count": null,
   "metadata": {},
   "outputs": [],
   "source": [
    "# Write a Python function which takes a character \n",
    "#(i.e. a string of length 1)\n",
    "# and returns True if it is \n",
    "# a vowel, False otherwise.\n",
    "\n",
    "\n",
    "def is_vowel(char):\n",
    "    if char in ['a','e','i','o','u','A','E','I','O','U']:\n",
    "        return True\n",
    "    else:\n",
    "        return False\n",
    "    \n",
    "\n",
    "def get_char():\n",
    "    while True:\n",
    "        char = input('Input character = ')\n",
    "        if len(char) > 1:\n",
    "            print('Not valid char type')\n",
    "            continue\n",
    "        else:\n",
    "            break\n",
    "    if is_vowel(char):\n",
    "        print(\"{}- is vowel\".format(char))\n",
    "    else:\n",
    "        print(\"{}- is not vowel\".format(char))\n",
    "        \n",
    "get_char()"
   ]
  },
  {
   "cell_type": "code",
   "execution_count": null,
   "metadata": {},
   "outputs": [],
   "source": [
    "# Write a function to compute 5/0 and \n",
    "# use try/except to catch the exceptions.\n",
    "\n",
    "def apply_division(dividend, divisor):\n",
    "    quotient = 0\n",
    "    try:\n",
    "        quotient = dividend / divisor\n",
    "    except ZeroDivisionError:\n",
    "        print ('Zero Division Error::Divisor {} is not applicable'.format(divisor))\n",
    "    return quotient\n",
    "\n",
    "apply_division(5,0)\n"
   ]
  },
  {
   "cell_type": "code",
   "execution_count": null,
   "metadata": {},
   "outputs": [],
   "source": [
    "''' Write a function to find moving average in an array over a window:\n",
    "Test it over [3, 5, 7, 2, 8, 10, 11, 65, 72, 81, 99, 100, 150] and window of 3.'''\n",
    "\n",
    "# Moving average \n",
    "mylist = [3, 5, 7, 2, 8, 10, 11, 65, 72, 81, 99, 100, 150]\n",
    "N = 3\n",
    "cumsum, moving_av = [0], []\n",
    "for i, x in enumerate(mylist, 1):\n",
    "    cumsum.append(cumsum[i-1] + x)\n",
    "    if i>=N:\n",
    "        moving_ave = (cumsum[i] - cumsum[i-N])/N\n",
    "        moving_av.append(moving_ave)\n",
    "print(moving_ave)"
   ]
  },
  {
   "cell_type": "code",
   "execution_count": null,
   "metadata": {},
   "outputs": [],
   "source": [
    "'''Write a function so that the columns of the output matrix are powers of the input vector.'''\n",
    "\n",
    "''' The order of the powers is determined by the increasing boolean argument. Specifically, when\n",
    "increasing is False, the i-th output column is the input vector raised element-wise to the power\n",
    "of N - i - 1.'''\n",
    "\n",
    "''' HINT: Such a matrix with a geometric progression in each row is named for Alexandre-\n",
    "Theophile Vandermonde.'''\n",
    "\n",
    "\n",
    "import numpy as np\n",
    "\n",
    "x = np.array([1,2,3,4,5])\n",
    "x\n",
    "\n",
    "def apply_vander(num_list,N=0,increasing=False):\n",
    "    if N == 0:\n",
    "        N = len(num_list)\n",
    "    vander_list = []\n",
    "    for i in range(N):\n",
    "        colm_list = []\n",
    "        for j in range(len(num_list)):\n",
    "            colm_list.append(num_list[j]**(N-1-i))\n",
    "        if increasing == True:\n",
    "            vander_list.insert(0,colm_list)\n",
    "        else:\n",
    "            vander_list.append(colm_list)\n",
    "    return vander_list\n",
    "\n",
    "vander_list = apply_vander([1,2,3,4,5],5)\n",
    "np.column_stack(vander_list)\n",
    "\n",
    "vander_list = apply_vander([1,2,3,4,5],increasing=True)\n",
    "np.column_stack(vander_list)\n",
    "\n",
    "\n",
    "vander_list = apply_vander([1,2,3,4,5])\n",
    "vander_matrix = np.matrix(vander_list)\n",
    "vander_matrix.T"
   ]
  },
  {
   "cell_type": "code",
   "execution_count": 13,
   "metadata": {},
   "outputs": [
    {
     "name": "stdout",
     "output_type": "stream",
     "text": [
      "   X\n",
      "0  7\n",
      "1  2\n",
      "2  0\n",
      "3  3\n",
      "4  4\n",
      "5  2\n",
      "6  5\n",
      "7  0\n",
      "8  3\n",
      "9  4\n",
      "<class 'pandas.core.frame.DataFrame'>\n",
      "RangeIndex: 10 entries, 0 to 9\n",
      "Data columns (total 1 columns):\n",
      "X    10 non-null int64\n",
      "dtypes: int64(1)\n",
      "memory usage: 160.0 bytes\n"
     ]
    },
    {
     "data": {
      "text/html": [
       "<div>\n",
       "<style scoped>\n",
       "    .dataframe tbody tr th:only-of-type {\n",
       "        vertical-align: middle;\n",
       "    }\n",
       "\n",
       "    .dataframe tbody tr th {\n",
       "        vertical-align: top;\n",
       "    }\n",
       "\n",
       "    .dataframe thead th {\n",
       "        text-align: right;\n",
       "    }\n",
       "</style>\n",
       "<table border=\"1\" class=\"dataframe\">\n",
       "  <thead>\n",
       "    <tr style=\"text-align: right;\">\n",
       "      <th></th>\n",
       "      <th>X</th>\n",
       "    </tr>\n",
       "  </thead>\n",
       "  <tbody>\n",
       "    <tr>\n",
       "      <th>0</th>\n",
       "      <td>7</td>\n",
       "    </tr>\n",
       "    <tr>\n",
       "      <th>1</th>\n",
       "      <td>2</td>\n",
       "    </tr>\n",
       "    <tr>\n",
       "      <th>2</th>\n",
       "      <td>0</td>\n",
       "    </tr>\n",
       "    <tr>\n",
       "      <th>3</th>\n",
       "      <td>3</td>\n",
       "    </tr>\n",
       "    <tr>\n",
       "      <th>4</th>\n",
       "      <td>4</td>\n",
       "    </tr>\n",
       "  </tbody>\n",
       "</table>\n",
       "</div>"
      ],
      "text/plain": [
       "   X\n",
       "0  7\n",
       "1  2\n",
       "2  0\n",
       "3  3\n",
       "4  4"
      ]
     },
     "execution_count": 13,
     "metadata": {},
     "output_type": "execute_result"
    }
   ],
   "source": [
    "# import numpy as np\n",
    "# import pandas as pd\n",
    "# %matplotlib inline\n",
    "\n",
    "\n",
    "''' How-to-count-distance-to-the-previous-zero\n",
    "For each value, count the difference back to the previous zero (or the start of the Series,\n",
    "whichever is closer)\n",
    "create a new column 'Y'\n",
    "Consider a DataFrame df where there is an integer column 'X' '''\n",
    "\n",
    "import pandas as pd\n",
    "df = pd.DataFrame({'X': [7, 2, 0, 3, 4, 2, 5, 0, 3, 4]}) \n",
    "print(df)\n",
    "df.info()\n",
    "df.describe()\n",
    "df.count()\n",
    "df.mean()\n",
    "df.std()\n",
    "df.min()\n",
    "df.max()\n",
    "df.head()"
   ]
  },
  {
   "cell_type": "code",
   "execution_count": null,
   "metadata": {},
   "outputs": [],
   "source": [
    "import numpy as np\n",
    "N = 10\n",
    "a = np.random.rand(N,N) # checking with the random numbers generation in numpy\n",
    "b = np.zeros((N,N+1)) # assigning zeroes for the variable b\n",
    "print(a)\n",
    "print(b)\n",
    "b[:,:-1] = a\n",
    "b\n",
    "a"
   ]
  },
  {
   "cell_type": "code",
   "execution_count": null,
   "metadata": {},
   "outputs": [],
   "source": [
    "''' Create a DatetimeIndex that contains each business day of 2015 and use it to index a Series of\n",
    "random numbers.'''\n",
    "\n",
    "import pandas as pd\n",
    "range = pd.date_range('1/1/2015', periods=2, freq='H')\n",
    "range"
   ]
  },
  {
   "cell_type": "code",
   "execution_count": null,
   "metadata": {},
   "outputs": [],
   "source": [
    "pd.to_datetime(pd.Series(['Jul 31, 2015', '2010-01-10', None]))"
   ]
  },
  {
   "cell_type": "code",
   "execution_count": null,
   "metadata": {},
   "outputs": [],
   "source": [
    "import numpy as np\n",
    "df = pd.Series(np.random.randn(100), index=pd.date_range('2012-01-01', periods=100))\n",
    "df"
   ]
  }
 ],
 "metadata": {
  "kernelspec": {
   "display_name": "Python 3",
   "language": "python",
   "name": "python3"
  },
  "language_info": {
   "codemirror_mode": {
    "name": "ipython",
    "version": 3
   },
   "file_extension": ".py",
   "mimetype": "text/x-python",
   "name": "python",
   "nbconvert_exporter": "python",
   "pygments_lexer": "ipython3",
   "version": "3.7.2"
  }
 },
 "nbformat": 4,
 "nbformat_minor": 2
}
